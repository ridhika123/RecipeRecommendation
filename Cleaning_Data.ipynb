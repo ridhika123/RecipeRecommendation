{
 "cells": [
  {
   "cell_type": "markdown",
   "id": "c97bbd74",
   "metadata": {},
   "source": [
    "# Cleaning Ingredients for Bag of Words"
   ]
  },
  {
   "cell_type": "markdown",
   "id": "88f95406",
   "metadata": {},
   "source": [
    "## Frequency of Words"
   ]
  },
  {
   "cell_type": "code",
   "execution_count": 25,
   "id": "0e947a8b",
   "metadata": {},
   "outputs": [],
   "source": [
    "vocabulary = nltk.FreqDist()\n",
    "\n",
    "for ingredients in df['ingredients_cleaned']:\n",
    "    str1 = \"\"\n",
    "#     print(ingredients)\n",
    "    for i in ingredients:\n",
    "        str1 += \" \"+i \n",
    "    ingredients = str1.split()\n",
    "    vocabulary.update(ingredients)\n",
    "    \n",
    "for word, frequency in vocabulary.most_common(1000):\n",
    "    print(f'{word};{frequency}')"
   ]
  },
  {
   "cell_type": "code",
   "execution_count": 23,
   "id": "7d500afe",
   "metadata": {},
   "outputs": [
    {
     "data": {
      "text/plain": [
       "0"
      ]
     },
     "execution_count": 23,
     "metadata": {},
     "output_type": "execute_result"
    }
   ],
   "source": [
    "vocabulary['?']"
   ]
  },
  {
   "cell_type": "markdown",
   "id": "92dc4b3f",
   "metadata": {},
   "source": [
    "## Ceaning Ingredients"
   ]
  },
  {
   "cell_type": "code",
   "execution_count": 19,
   "id": "da862755",
   "metadata": {
    "scrolled": true
   },
   "outputs": [],
   "source": [
    "import unidecode\n",
    "import ast\n",
    "import nltk\n",
    "from nltk.stem import WordNetLemmatizer\n",
    "import pandas as pd\n",
    "import re\n",
    "\n",
    "\n",
    "def ingredient_cleaner(ingreds):\n",
    "    lemmatizer = WordNetLemmatizer()\n",
    "    words_to_remove = [\"as\", \"required\", \"chopped\", \"medium\", \"fresh\", \"boiled\", \"peeled\", \"and\", \"finely\", \"a\", \"pinch\",                    \n",
    "                       \"slice\", \"crushed\", \"fillet\", \"sliced\", \"few\", \"strand\", \"browned\", \"loaf\", \"piece\", \"into\", \"cube\", \n",
    "                       \"garnishing\", \"tablespo\", \"drop\", \"shaving\", \"drained\", \"grated\", \"gram\", \"soaked\", \"roughly\", \"blanched\",\n",
    "                        \"scraped\", \"ice\", \"large\", \"halved\", \"washed\", \"seeded\", \"in\", \"deveined\", \"diced\", \"slivered\", \"shelled\",\n",
    "                       \"quartered\", \"bulb\", \"overnight\", \"on\", \"pearl\", \"desiccated\", \"the\", \"at\", \"from\", \"cup\", \"one\", \"two\", \n",
    "                       \"three\", \"four\", \"five\", \"six\", \"seven\", \"eight\", \"nine\", \"ten\", \"plenty\", \"of\", \"\", \" \"]\n",
    "    \n",
    "    if isinstance(ingreds, list):\n",
    "        items = ingreds\n",
    "    else:\n",
    "        items = ast.literal_eval(ingreds)\n",
    "       \n",
    "    # converting all ingredients to unicode  \n",
    "    items = [unidecode.unidecode(word) for word in items]\n",
    "    \n",
    "    # converting all ingredients to lower case\n",
    "    items = [word.lower() for word in items]        \n",
    "    \n",
    "    # getting rid of all information beyond a comma\n",
    "    items = [word.split(\",\")[0] for word in items]\n",
    "    \n",
    "    # deleting all punctuations\n",
    "    items = [word.replace(\"(\", \"\") for word in items]\n",
    "    items = [word.replace(\")\", \"\") for word in items]\n",
    "    items = [word.replace(\"/\", \" \") for word in items]\n",
    "    items = [word.replace(\"-\", \" \") for word in items]\n",
    "    items = [word.replace(\"+\", \" \") for word in items]\n",
    "    items = [word.replace(\"?\", \" \") for word in items]\n",
    "    \n",
    "    # getting rid of all information beyond any number\n",
    "    items = [re.split(r'(\\d+)', word)[0] for word in items]\n",
    "    \n",
    "    # getting rid of any information beyond to, for, cut and with\n",
    "    items = [word.split(\" to\")[0] for word in items]\n",
    "    items = [word.split(\"for\")[0] for word in items]\n",
    "    items = [word.split(\"cut\")[0] for word in items]\n",
    "    items = [word.split(\" with\")[0] for word in items]\n",
    "    \n",
    "    # replace double spaces with single space\n",
    "    items = [word.replace(\"  \", \" \") for word in items]\n",
    "                          \n",
    "    # delete any ingredient which contains oil, salt, butter, sugar or lemon\n",
    "    items = [word for word in items if word.find(\"oil\") == -1]\n",
    "    items = [word for word in items if word.find(\"salt\") == -1]\n",
    "    items = [word for word in items if word.find(\"butter\") == -1]\n",
    "    items = [word for word in items if word.find(\"sugar\") == -1]\n",
    "    items = [word for word in items if word.find(\"lemon\") == -1]\n",
    "    \n",
    "    items_lemmatized = []\n",
    "    for i in range(0, len(items)):\n",
    "        to_lemma = items[i].split(' ')\n",
    "        # lemmatizing words\n",
    "        word_lemmatized = [lemmatizer.lemmatize(word) for word in to_lemma]\n",
    "        # removing words in words_to_remove\n",
    "        word_cleaned = ' '.join([word for word in word_lemmatized if word not in words_to_remove])\n",
    "        items_lemmatized.append(word_cleaned.lstrip().rstrip())\n",
    "    items_lemmatized = [word for word in items_lemmatized if word != '']\n",
    "    \n",
    "    return items_lemmatized   "
   ]
  },
  {
   "cell_type": "code",
   "execution_count": 20,
   "id": "887e735a",
   "metadata": {},
   "outputs": [],
   "source": [
    "# importing scrubbed data\n",
    "df = pd.read_csv('df_scrubbed_final.csv')\n",
    "# dropping rows with missing values\n",
    "df = df.dropna()\n",
    "# applying ingredient_cleaner to add column \"ingredients_cleaned\"\n",
    "df['ingredients_cleaned'] = df['ingredients'].apply(lambda x: ingredient_cleaner(x))\n",
    "df = df.iloc[: , 1:]"
   ]
  },
  {
   "cell_type": "code",
   "execution_count": 21,
   "id": "9736120a",
   "metadata": {},
   "outputs": [
    {
     "data": {
      "text/html": [
       "<div>\n",
       "<style scoped>\n",
       "    .dataframe tbody tr th:only-of-type {\n",
       "        vertical-align: middle;\n",
       "    }\n",
       "\n",
       "    .dataframe tbody tr th {\n",
       "        vertical-align: top;\n",
       "    }\n",
       "\n",
       "    .dataframe thead th {\n",
       "        text-align: right;\n",
       "    }\n",
       "</style>\n",
       "<table border=\"1\" class=\"dataframe\">\n",
       "  <thead>\n",
       "    <tr style=\"text-align: right;\">\n",
       "      <th></th>\n",
       "      <th>recipe_urls</th>\n",
       "      <th>recipe_name</th>\n",
       "      <th>ingredients</th>\n",
       "      <th>prep_time</th>\n",
       "      <th>cook_time</th>\n",
       "      <th>serve</th>\n",
       "      <th>level_of_cooking</th>\n",
       "      <th>taste</th>\n",
       "      <th>ingredients_cleaned</th>\n",
       "    </tr>\n",
       "  </thead>\n",
       "  <tbody>\n",
       "    <tr>\n",
       "      <th>0</th>\n",
       "      <td>https://www.sanjeevkapoor.com/Recipe/Taazi-Hal...</td>\n",
       "      <td>Taazi Haldi Aur Gajar Ki Sabzi</td>\n",
       "      <td>['Fresh turmeric (taazi haldi) , chopped 1 1/2...</td>\n",
       "      <td>11-15</td>\n",
       "      <td>21-25</td>\n",
       "      <td>4</td>\n",
       "      <td>Easy</td>\n",
       "      <td>Spicy</td>\n",
       "      <td>[turmeric taazi haldi, carrot, ghee, cumin see...</td>\n",
       "    </tr>\n",
       "    <tr>\n",
       "      <th>1</th>\n",
       "      <td>https://www.sanjeevkapoor.com/Recipe/Jackfruit...</td>\n",
       "      <td>Jackfruit Seed Sambhar</td>\n",
       "      <td>['Ripe jackfruit kernels 20-25', 'Salt to tast...</td>\n",
       "      <td>41-50</td>\n",
       "      <td>41-50</td>\n",
       "      <td>4</td>\n",
       "      <td>Moderate</td>\n",
       "      <td>Spicy</td>\n",
       "      <td>[ripe jackfruit kernel, turmeric powder, sambh...</td>\n",
       "    </tr>\n",
       "    <tr>\n",
       "      <th>2</th>\n",
       "      <td>https://www.sanjeevkapoor.com/Recipe/-SABUDANA...</td>\n",
       "      <td>Sabudana Vada</td>\n",
       "      <td>['Sago (sabudana) ,soaked 1 1/2 cups', 'Chutne...</td>\n",
       "      <td>360.0-420.0</td>\n",
       "      <td>11-15</td>\n",
       "      <td>4</td>\n",
       "      <td>Moderate</td>\n",
       "      <td>Mild</td>\n",
       "      <td>[sago sabudana, chutney, coconut, coriander le...</td>\n",
       "    </tr>\n",
       "    <tr>\n",
       "      <th>3</th>\n",
       "      <td>https://www.sanjeevkapoor.com/Recipe/PUNJABI-S...</td>\n",
       "      <td>Punjabi Samosa</td>\n",
       "      <td>['Refined flour (maida) 1 1/2 cups', 'Potatoes...</td>\n",
       "      <td>31-40</td>\n",
       "      <td>41-50</td>\n",
       "      <td>4</td>\n",
       "      <td>Difficult</td>\n",
       "      <td>Tangy</td>\n",
       "      <td>[refined flour maida, potato, carom seed ajwai...</td>\n",
       "    </tr>\n",
       "    <tr>\n",
       "      <th>4</th>\n",
       "      <td>https://www.sanjeevkapoor.com/Recipe/PANI-PURI...</td>\n",
       "      <td>Pani Puri</td>\n",
       "      <td>['Puris as required', 'Potatoes , boiled and p...</td>\n",
       "      <td>31-40</td>\n",
       "      <td>0-5</td>\n",
       "      <td>4</td>\n",
       "      <td>Moderate</td>\n",
       "      <td>Tangy</td>\n",
       "      <td>[puris, potato, moong sprout, roasted cumin po...</td>\n",
       "    </tr>\n",
       "  </tbody>\n",
       "</table>\n",
       "</div>"
      ],
      "text/plain": [
       "                                         recipe_urls  \\\n",
       "0  https://www.sanjeevkapoor.com/Recipe/Taazi-Hal...   \n",
       "1  https://www.sanjeevkapoor.com/Recipe/Jackfruit...   \n",
       "2  https://www.sanjeevkapoor.com/Recipe/-SABUDANA...   \n",
       "3  https://www.sanjeevkapoor.com/Recipe/PUNJABI-S...   \n",
       "4  https://www.sanjeevkapoor.com/Recipe/PANI-PURI...   \n",
       "\n",
       "                      recipe_name  \\\n",
       "0  Taazi Haldi Aur Gajar Ki Sabzi   \n",
       "1          Jackfruit Seed Sambhar   \n",
       "2                   Sabudana Vada   \n",
       "3                  Punjabi Samosa   \n",
       "4                       Pani Puri   \n",
       "\n",
       "                                         ingredients    prep_time cook_time  \\\n",
       "0  ['Fresh turmeric (taazi haldi) , chopped 1 1/2...        11-15     21-25   \n",
       "1  ['Ripe jackfruit kernels 20-25', 'Salt to tast...        41-50     41-50   \n",
       "2  ['Sago (sabudana) ,soaked 1 1/2 cups', 'Chutne...  360.0-420.0     11-15   \n",
       "3  ['Refined flour (maida) 1 1/2 cups', 'Potatoes...        31-40     41-50   \n",
       "4  ['Puris as required', 'Potatoes , boiled and p...        31-40       0-5   \n",
       "\n",
       "  serve level_of_cooking   taste  \\\n",
       "0    4             Easy   Spicy    \n",
       "1    4         Moderate   Spicy    \n",
       "2    4         Moderate    Mild    \n",
       "3    4        Difficult   Tangy    \n",
       "4    4         Moderate   Tangy    \n",
       "\n",
       "                                 ingredients_cleaned  \n",
       "0  [turmeric taazi haldi, carrot, ghee, cumin see...  \n",
       "1  [ripe jackfruit kernel, turmeric powder, sambh...  \n",
       "2  [sago sabudana, chutney, coconut, coriander le...  \n",
       "3  [refined flour maida, potato, carom seed ajwai...  \n",
       "4  [puris, potato, moong sprout, roasted cumin po...  "
      ]
     },
     "execution_count": 21,
     "metadata": {},
     "output_type": "execute_result"
    }
   ],
   "source": [
    "df.head()"
   ]
  },
  {
   "cell_type": "code",
   "execution_count": 24,
   "id": "f611ad0a",
   "metadata": {},
   "outputs": [],
   "source": [
    "# exporting cleaned data set\n",
    "df.to_csv('df_cleaned_final.csv', index=False)"
   ]
  }
 ],
 "metadata": {
  "kernelspec": {
   "display_name": "Python 3 (ipykernel)",
   "language": "python",
   "name": "python3"
  },
  "language_info": {
   "codemirror_mode": {
    "name": "ipython",
    "version": 3
   },
   "file_extension": ".py",
   "mimetype": "text/x-python",
   "name": "python",
   "nbconvert_exporter": "python",
   "pygments_lexer": "ipython3",
   "version": "3.9.12"
  }
 },
 "nbformat": 4,
 "nbformat_minor": 5
}
